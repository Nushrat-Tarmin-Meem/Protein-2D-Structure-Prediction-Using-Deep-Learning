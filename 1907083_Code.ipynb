{
 "cells": [
  {
   "cell_type": "markdown",
   "metadata": {},
   "source": [
    "# **Nushrat Tarmin Meem (1907083)**"
   ]
  },
  {
   "cell_type": "markdown",
   "metadata": {},
   "source": [
    "### *1) NCBI Dataset: RefSeq Non-redundant Protein Database (RefSeq WP Acessions) Bacterial Protein Families (Enterobacteriaceae, Escherichia etc.)*"
   ]
  },
  {
   "cell_type": "code",
   "execution_count": 35,
   "metadata": {
    "execution": {
     "iopub.execute_input": "2025-05-29T17:31:08.120046Z",
     "iopub.status.busy": "2025-05-29T17:31:08.119254Z",
     "iopub.status.idle": "2025-05-29T17:31:08.134329Z",
     "shell.execute_reply": "2025-05-29T17:31:08.133740Z",
     "shell.execute_reply.started": "2025-05-29T17:31:08.120014Z"
    },
    "trusted": true
   },
   "outputs": [
    {
     "name": "stdout",
     "output_type": "stream",
     "text": [
      "['GCF_963681135.1', 'assembly_data_report.jsonl', 'data_summary.tsv', 'dataset_catalog.json']\n"
     ]
    }
   ],
   "source": [
    "import os\n",
    "directory = \"/kaggle/input/ncbi-data/ncbi_dataset/ncbi_dataset/data\"\n",
    "files = os.listdir(directory)\n",
    "print(files)"
   ]
  },
  {
   "cell_type": "markdown",
   "metadata": {},
   "source": [
    "### *2) Installing and Importing Required Libraries:*"
   ]
  },
  {
   "cell_type": "code",
   "execution_count": 36,
   "metadata": {
    "execution": {
     "iopub.execute_input": "2025-05-29T17:31:08.135764Z",
     "iopub.status.busy": "2025-05-29T17:31:08.135543Z",
     "iopub.status.idle": "2025-05-29T17:31:11.079477Z",
     "shell.execute_reply": "2025-05-29T17:31:11.078381Z",
     "shell.execute_reply.started": "2025-05-29T17:31:08.135748Z"
    },
    "trusted": true
   },
   "outputs": [],
   "source": [
    "!pip install biopython --quiet\n",
    "\n",
    "import os\n",
    "os.environ['TF_CPP_MIN_LOG_LEVEL'] = '2'\n",
    "import tensorflow as tf\n",
    "import numpy as np\n",
    "import matplotlib.pyplot as plt\n",
    "import seaborn as sns\n",
    "import imageio.v2 as imageio\n",
    "from collections import Counter\n",
    "from Bio import SeqIO\n",
    "from sklearn.preprocessing import LabelEncoder\n",
    "from sklearn.model_selection import train_test_split\n",
    "from sklearn.metrics import confusion_matrix\n",
    "from tensorflow.keras.preprocessing.sequence import pad_sequences\n",
    "from tensorflow.keras.models import Sequential\n",
    "from tensorflow.keras.layers import Embedding, Conv1D, Bidirectional, GRU, Dense, Dropout, TimeDistributed, BatchNormalization\n",
    "from tensorflow.keras.utils import to_categorical\n",
    "from tensorflow.keras.callbacks import EarlyStopping, Callback\n",
    "from tensorflow.keras.regularizers import l2"
   ]
  },
  {
   "cell_type": "markdown",
   "metadata": {},
   "source": [
    "### *3) Loading Sequences and Labels:*"
   ]
  },
  {
   "cell_type": "code",
   "execution_count": 37,
   "metadata": {
    "execution": {
     "iopub.execute_input": "2025-05-29T17:31:11.081452Z",
     "iopub.status.busy": "2025-05-29T17:31:11.081185Z",
     "iopub.status.idle": "2025-05-29T17:31:11.126815Z",
     "shell.execute_reply": "2025-05-29T17:31:11.126120Z",
     "shell.execute_reply.started": "2025-05-29T17:31:11.081428Z"
    },
    "trusted": true
   },
   "outputs": [
    {
     "name": "stdout",
     "output_type": "stream",
     "text": [
      "✅Total Sequences Parsed from FASTA: 4943\n",
      "✅Top 3 Labels:\n",
      "1. Enterobacteriaceae (2338 sequences)\n",
      "2. Escherichia coli (1294 sequences)\n",
      "3. Escherichia (635 sequences)\n",
      "✅Total Sequences After Filtering for Top 3 Labels: 4267\n"
     ]
    }
   ],
   "source": [
    "from Bio import SeqIO\n",
    "from collections import Counter\n",
    "\n",
    "# === Loading FASTA sequences ===\n",
    "fasta_file = \"/kaggle/input/ncbi-data/ncbi_dataset/ncbi_dataset/data/GCF_963681135.1/protein.faa\"\n",
    "sequences = list(SeqIO.parse(fasta_file, \"fasta\"))\n",
    "print(f\"✅Total Sequences Parsed from FASTA: {len(sequences)}\")\n",
    "\n",
    "# === Extracting labels ===\n",
    "def extract_label(description):\n",
    "    if \"[\" in description and \"]\" in description:\n",
    "        return description.split(\"[\")[-1].split(\"]\")[0]\n",
    "    return \"Unknown\"\n",
    "\n",
    "labels = [extract_label(rec.description) for rec in sequences]\n",
    "label_counts = Counter(labels)\n",
    "top_labels = [label for label, _ in label_counts.most_common(3)]\n",
    "\n",
    "print(\"✅Top 3 Labels:\")\n",
    "for i, label in enumerate(top_labels, 1):\n",
    "    print(f\"{i}. {label} ({label_counts[label]} sequences)\")\n",
    "\n",
    "# === Filtering by top labels ===\n",
    "filtered_data = [(rec, label) for rec, label in zip(sequences, labels) if label in top_labels]\n",
    "print(f\"✅Total Sequences After Filtering for Top 3 Labels: {len(filtered_data)}\")\n",
    "\n",
    "# === Unpacking filtered data ===\n",
    "filtered_seqs, filtered_labels = zip(*filtered_data)"
   ]
  },
  {
   "cell_type": "markdown",
   "metadata": {},
   "source": [
    "### *4) Tokenizing Sequences:*"
   ]
  },
  {
   "cell_type": "code",
   "execution_count": 38,
   "metadata": {
    "execution": {
     "iopub.execute_input": "2025-05-29T17:31:11.127812Z",
     "iopub.status.busy": "2025-05-29T17:31:11.127566Z",
     "iopub.status.idle": "2025-05-29T17:31:11.293948Z",
     "shell.execute_reply": "2025-05-29T17:31:11.293174Z",
     "shell.execute_reply.started": "2025-05-29T17:31:11.127782Z"
    },
    "trusted": true
   },
   "outputs": [
    {
     "name": "stdout",
     "output_type": "stream",
     "text": [
      "✅Amino Acid Vocabulary Size (Excluding Padding): 20\n",
      "✅Total Vocabulary Size (Including Padding Token 0): 21\n",
      "✅Example Tokenized Sequence (First One First 50 Tokens):\n",
      "[11, 1, 12, 10, 16, 6, 20, 12, 5, 1, 20, 10, 3, 4, 14, 17, 9, 15, 11, 8, 15, 15, 1, 8, 10, 9, 1, 18, 1, 8, 13, 6, 20, 14, 18, 13, 5, 6, 6, 15, 4, 11, 13, 11, 13, 20, 6, 19, 6, 17]\n",
      "✅Sequences with ≥50 Amino Acids: 4206\n",
      "✅Average Sequence Length: 336.50\n",
      "✅Max Sequence Length: 3515\n"
     ]
    }
   ],
   "source": [
    "amino_acids = 'ACDEFGHIKLMNPQRSTVWY'\n",
    "aa_to_index = {aa: i + 1 for i, aa in enumerate(amino_acids)}\n",
    "vocab_size = len(aa_to_index) + 1\n",
    "\n",
    "def tokenize_sequence(seq):\n",
    "    return [aa_to_index.get(aa, 0) for aa in seq if aa in aa_to_index]\n",
    "\n",
    "tokenized_seqs = [tokenize_sequence(str(rec.seq)) for rec in filtered_seqs]\n",
    "tokenized_seqs = [seq for seq in tokenized_seqs if len(seq) >= 50]\n",
    "filtered_labels = [lbl for seq, lbl in zip(tokenized_seqs, filtered_labels) if len(seq) >= 50]\n",
    "\n",
    "print(f\"✅Amino Acid Vocabulary Size (Excluding Padding): {len(aa_to_index)}\")\n",
    "print(f\"✅Total Vocabulary Size (Including Padding Token 0): {vocab_size}\")\n",
    "print(\"✅Example Tokenized Sequence (First One First 50 Tokens):\")\n",
    "print(tokenized_seqs[0][:50])  \n",
    "print(f\"✅Sequences with ≥50 Amino Acids: {len(tokenized_seqs)}\")\n",
    "sequence_lengths = [len(seq) for seq in tokenized_seqs]\n",
    "print(f\"✅Average Sequence Length: {sum(sequence_lengths) / len(sequence_lengths):.2f}\")\n",
    "print(f\"✅Max Sequence Length: {max(sequence_lengths)}\")"
   ]
  },
  {
   "cell_type": "markdown",
   "metadata": {},
   "source": [
    "### *5) Padding Sequences and Encoding Labels:*"
   ]
  },
  {
   "cell_type": "code",
   "execution_count": 39,
   "metadata": {
    "execution": {
     "iopub.execute_input": "2025-05-29T17:31:11.295997Z",
     "iopub.status.busy": "2025-05-29T17:31:11.295788Z",
     "iopub.status.idle": "2025-05-29T17:31:11.394006Z",
     "shell.execute_reply": "2025-05-29T17:31:11.393238Z",
     "shell.execute_reply.started": "2025-05-29T17:31:11.295980Z"
    },
    "trusted": true
   },
   "outputs": [
    {
     "name": "stdout",
     "output_type": "stream",
     "text": [
      "✅Input shape (X): (4206, 500)  → (samples, padded_sequence_length)\n",
      "✅Output shape (Y): (4206, 3)  → (samples, number_of_classes)\n",
      "✅Encoded Label Classes:\n",
      "0: Enterobacteriaceae\n",
      "1: Escherichia\n",
      "2: Escherichia coli\n",
      "✅Example Padded Sequence (first 20 tokens):\n",
      "[11  1 12 10 16  6 20 12  5  1 20 10  3  4 14 17  9 15 11  8]\n",
      "✅Corresponding One-Hot Label Vector:\n",
      "[1. 0. 0.]\n",
      "📊Class Distribution in One-Hot Format:\n",
      "Enterobacteriaceae: 2332 samples\n",
      "Escherichia: 634 samples\n",
      "Escherichia coli: 1240 samples\n"
     ]
    }
   ],
   "source": [
    "maxlen = 500\n",
    "X = pad_sequences(tokenized_seqs, maxlen=maxlen, padding='post', truncating='post')\n",
    "\n",
    "label_encoder = LabelEncoder()\n",
    "Y = label_encoder.fit_transform(filtered_labels)\n",
    "Y = to_categorical(Y)\n",
    "\n",
    "print(f\"✅Input shape (X): {X.shape}  → (samples, padded_sequence_length)\")\n",
    "print(f\"✅Output shape (Y): {Y.shape}  → (samples, number_of_classes)\")\n",
    "\n",
    "print(\"✅Encoded Label Classes:\")\n",
    "for i, class_name in enumerate(label_encoder.classes_):\n",
    "    print(f\"{i}: {class_name}\")\n",
    "\n",
    "print(\"✅Example Padded Sequence (first 20 tokens):\")\n",
    "print(X[0][:20])\n",
    "\n",
    "print(\"✅Corresponding One-Hot Label Vector:\")\n",
    "print(Y[0])\n",
    "\n",
    "import numpy as np\n",
    "class_counts = np.sum(Y, axis=0)\n",
    "print(\"📊Class Distribution in One-Hot Format:\")\n",
    "for idx, (name, count) in enumerate(zip(label_encoder.classes_, class_counts)):\n",
    "    print(f\"{name}: {int(count)} samples\")"
   ]
  },
  {
   "cell_type": "markdown",
   "metadata": {},
   "source": [
    "### *6) Bar Chart of Class Distribution (One-Hot Encoded Labels):*"
   ]
  },
  {
   "cell_type": "code",
   "execution_count": 40,
   "metadata": {
    "execution": {
     "iopub.execute_input": "2025-05-29T17:31:11.395790Z",
     "iopub.status.busy": "2025-05-29T17:31:11.394961Z",
     "iopub.status.idle": "2025-05-29T17:31:11.551349Z",
     "shell.execute_reply": "2025-05-29T17:31:11.550565Z",
     "shell.execute_reply.started": "2025-05-29T17:31:11.395757Z"
    },
    "trusted": true
   },
   "outputs": [
    {
     "data": {
      "image/png": "[encoded data removed]",
      "text/plain": [
       "<Figure size 800x500 with 1 Axes>"
      ]
     },
     "metadata": {},
     "output_type": "display_data"
    }
   ],
   "source": [
    "import matplotlib.pyplot as plt\n",
    "import seaborn as sns\n",
    "import numpy as np\n",
    "class_counts = np.sum(Y, axis=0)\n",
    "class_names = label_encoder.classes_\n",
    "\n",
    "plt.figure(figsize=(8, 5))\n",
    "sns.barplot(x=class_names, y=class_counts, palette='viridis')\n",
    "plt.title(\"Class Distribution of Protein Sequences\")\n",
    "plt.xlabel(\"Label\")\n",
    "plt.ylabel(\"Number of Sequences\")\n",
    "plt.xticks(rotation=45)\n",
    "plt.tight_layout()\n",
    "plt.show()"
   ]
  },
  {
   "cell_type": "markdown",
   "metadata": {},
   "source": [
    "### *7) Train-Test Splitting:*"
   ]
  },
  {
   "cell_type": "code",
   "execution_count": 41,
   "metadata": {
    "execution": {
     "iopub.execute_input": "2025-05-29T17:31:11.552794Z",
     "iopub.status.busy": "2025-05-29T17:31:11.552506Z",
     "iopub.status.idle": "2025-05-29T17:31:11.566521Z",
     "shell.execute_reply": "2025-05-29T17:31:11.565808Z",
     "shell.execute_reply.started": "2025-05-29T17:31:11.552773Z"
    },
    "trusted": true
   },
   "outputs": [
    {
     "name": "stdout",
     "output_type": "stream",
     "text": [
      "✅Dataset Split Summary:\n",
      "🧠Training set:     2944 samples\n",
      "🧪Validation set:   631 samples\n",
      "🔬Test set:         631 samples\n"
     ]
    }
   ],
   "source": [
    "X_train, X_temp, Y_train, Y_temp = train_test_split(X, Y, test_size=0.3, random_state=42)\n",
    "X_val, X_test, Y_val, Y_test = train_test_split(X_temp, Y_temp, test_size=0.5, random_state=42)\n",
    "\n",
    "print(\"✅Dataset Split Summary:\")\n",
    "print(f\"🧠Training set:     {X_train.shape[0]} samples\")\n",
    "print(f\"🧪Validation set:   {X_val.shape[0]} samples\")\n",
    "print(f\"🔬Test set:         {X_test.shape[0]} samples\")"
   ]
  },
  {
   "cell_type": "markdown",
   "metadata": {},
   "source": [
    "### *8) Callback for Weight Saving:*"
   ]
  },
  {
   "cell_type": "code",
   "execution_count": 42,
   "metadata": {
    "execution": {
     "iopub.execute_input": "2025-05-29T17:31:11.567639Z",
     "iopub.status.busy": "2025-05-29T17:31:11.567383Z",
     "iopub.status.idle": "2025-05-29T17:31:11.574515Z",
     "shell.execute_reply": "2025-05-29T17:31:11.573779Z",
     "shell.execute_reply.started": "2025-05-29T17:31:11.567614Z"
    },
    "trusted": true
   },
   "outputs": [],
   "source": [
    "class WeightTracker(Callback):\n",
    "    def __init__(self, save_dir=\"/kaggle/working/weights\"):\n",
    "        self.save_dir = save_dir\n",
    "        os.makedirs(save_dir, exist_ok=True)\n",
    "\n",
    "    def on_epoch_end(self, epoch, logs=None):\n",
    "        for i, layer in enumerate(self.model.layers):\n",
    "            weights = layer.get_weights()\n",
    "            for j, w in enumerate(weights):\n",
    "                np.save(os.path.join(self.save_dir, f\"epoch_{epoch}_layer_{i+1}_weight_{j+1}.npy\"), w)"
   ]
  },
  {
   "cell_type": "markdown",
   "metadata": {},
   "source": [
    "### *9) Building the Model:*"
   ]
  },
  {
   "cell_type": "code",
   "execution_count": 43,
   "metadata": {
    "execution": {
     "iopub.execute_input": "2025-05-29T17:31:11.575601Z",
     "iopub.status.busy": "2025-05-29T17:31:11.575346Z",
     "iopub.status.idle": "2025-05-29T17:31:11.624152Z",
     "shell.execute_reply": "2025-05-29T17:31:11.623491Z",
     "shell.execute_reply.started": "2025-05-29T17:31:11.575582Z"
    },
    "trusted": true
   },
   "outputs": [],
   "source": [
    "import os\n",
    "os.environ['TF_CPP_MIN_LOG_LEVEL'] = '3' \n",
    "\n",
    "num_classes = Y.shape[1]\n",
    "\n",
    "model = Sequential([\n",
    "    Embedding(input_dim=vocab_size, output_dim=64),\n",
    "    Conv1D(filters=128, kernel_size=5, activation='relu', padding='same'),\n",
    "    BatchNormalization(),\n",
    "    Dropout(0.4),\n",
    "    Bidirectional(GRU(64, return_sequences=False, kernel_regularizer=l2(0.001))),\n",
    "    BatchNormalization(),\n",
    "    Dropout(0.4),\n",
    "    Dense(num_classes, activation='softmax')\n",
    "])\n",
    "\n",
    "model.compile(loss='categorical_crossentropy', optimizer='adam', metrics=['accuracy'])"
   ]
  },
  {
   "cell_type": "markdown",
   "metadata": {},
   "source": [
    "### *10) Training the Model:*"
   ]
  },
  {
   "cell_type": "code",
   "execution_count": 44,
   "metadata": {
    "execution": {
     "iopub.execute_input": "2025-05-29T17:31:11.625165Z",
     "iopub.status.busy": "2025-05-29T17:31:11.624957Z",
     "iopub.status.idle": "2025-05-29T17:34:02.184581Z",
     "shell.execute_reply": "2025-05-29T17:34:02.183990Z",
     "shell.execute_reply.started": "2025-05-29T17:31:11.625146Z"
    },
    "trusted": true
   },
   "outputs": [
    {
     "name": "stdout",
     "output_type": "stream",
     "text": [
      "Epoch 1/15\n",
      "\u001b[1m368/368\u001b[0m \u001b[32m━━━━━━━━━━━━━━━━━━━━\u001b[0m\u001b[37m\u001b[0m \u001b[1m17s\u001b[0m 31ms/step - accuracy: 0.3765 - loss: 1.8663 - val_accuracy: 0.5705 - val_loss: 1.1675\n",
      "Epoch 2/15\n",
      "\u001b[1m368/368\u001b[0m \u001b[32m━━━━━━━━━━━━━━━━━━━━\u001b[0m\u001b[37m\u001b[0m \u001b[1m11s\u001b[0m 29ms/step - accuracy: 0.4749 - loss: 1.3738 - val_accuracy: 0.5468 - val_loss: 1.1508\n",
      "Epoch 3/15\n",
      "\u001b[1m368/368\u001b[0m \u001b[32m━━━━━━━━━━━━━━━━━━━━\u001b[0m\u001b[37m\u001b[0m \u001b[1m11s\u001b[0m 30ms/step - accuracy: 0.5138 - loss: 1.2336 - val_accuracy: 0.5753 - val_loss: 1.1397\n",
      "Epoch 4/15\n",
      "\u001b[1m368/368\u001b[0m \u001b[32m━━━━━━━━━━━━━━━━━━━━\u001b[0m\u001b[37m\u001b[0m \u001b[1m11s\u001b[0m 30ms/step - accuracy: 0.5174 - loss: 1.1805 - val_accuracy: 0.5721 - val_loss: 1.0863\n",
      "Epoch 5/15\n",
      "\u001b[1m368/368\u001b[0m \u001b[32m━━━━━━━━━━━━━━━━━━━━\u001b[0m\u001b[37m\u001b[0m \u001b[1m11s\u001b[0m 30ms/step - accuracy: 0.5443 - loss: 1.1215 - val_accuracy: 0.5626 - val_loss: 1.0742\n",
      "Epoch 6/15\n",
      "\u001b[1m368/368\u001b[0m \u001b[32m━━━━━━━━━━━━━━━━━━━━\u001b[0m\u001b[37m\u001b[0m \u001b[1m11s\u001b[0m 30ms/step - accuracy: 0.5449 - loss: 1.0843 - val_accuracy: 0.5721 - val_loss: 1.0662\n",
      "Epoch 7/15\n",
      "\u001b[1m368/368\u001b[0m \u001b[32m━━━━━━━━━━━━━━━━━━━━\u001b[0m\u001b[37m\u001b[0m \u001b[1m11s\u001b[0m 30ms/step - accuracy: 0.5413 - loss: 1.0622 - val_accuracy: 0.5753 - val_loss: 1.0566\n",
      "Epoch 8/15\n",
      "\u001b[1m368/368\u001b[0m \u001b[32m━━━━━━━━━━━━━━━━━━━━\u001b[0m\u001b[37m\u001b[0m \u001b[1m11s\u001b[0m 30ms/step - accuracy: 0.5285 - loss: 1.0715 - val_accuracy: 0.5689 - val_loss: 1.0497\n",
      "Epoch 9/15\n",
      "\u001b[1m368/368\u001b[0m \u001b[32m━━━━━━━━━━━━━━━━━━━━\u001b[0m\u001b[37m\u001b[0m \u001b[1m11s\u001b[0m 30ms/step - accuracy: 0.5610 - loss: 1.0167 - val_accuracy: 0.5499 - val_loss: 1.0550\n",
      "Epoch 10/15\n",
      "\u001b[1m368/368\u001b[0m \u001b[32m━━━━━━━━━━━━━━━━━━━━\u001b[0m\u001b[37m\u001b[0m \u001b[1m11s\u001b[0m 30ms/step - accuracy: 0.5553 - loss: 1.0214 - val_accuracy: 0.5705 - val_loss: 1.0461\n",
      "Epoch 11/15\n",
      "\u001b[1m368/368\u001b[0m \u001b[32m━━━━━━━━━━━━━━━━━━━━\u001b[0m\u001b[37m\u001b[0m \u001b[1m11s\u001b[0m 30ms/step - accuracy: 0.5733 - loss: 0.9978 - val_accuracy: 0.5705 - val_loss: 1.0611\n",
      "Epoch 12/15\n",
      "\u001b[1m368/368\u001b[0m \u001b[32m━━━━━━━━━━━━━━━━━━━━\u001b[0m\u001b[37m\u001b[0m \u001b[1m11s\u001b[0m 30ms/step - accuracy: 0.5680 - loss: 0.9962 - val_accuracy: 0.5927 - val_loss: 1.0326\n",
      "Epoch 13/15\n",
      "\u001b[1m368/368\u001b[0m \u001b[32m━━━━━━━━━━━━━━━━━━━━\u001b[0m\u001b[37m\u001b[0m \u001b[1m11s\u001b[0m 30ms/step - accuracy: 0.5834 - loss: 0.9645 - val_accuracy: 0.5404 - val_loss: 1.0511\n",
      "Epoch 14/15\n",
      "\u001b[1m368/368\u001b[0m \u001b[32m━━━━━━━━━━━━━━━━━━━━\u001b[0m\u001b[37m\u001b[0m \u001b[1m11s\u001b[0m 30ms/step - accuracy: 0.5784 - loss: 0.9697 - val_accuracy: 0.5325 - val_loss: 1.0880\n",
      "Epoch 15/15\n",
      "\u001b[1m368/368\u001b[0m \u001b[32m━━━━━━━━━━━━━━━━━━━━\u001b[0m\u001b[37m\u001b[0m \u001b[1m11s\u001b[0m 29ms/step - accuracy: 0.5890 - loss: 0.9510 - val_accuracy: 0.4897 - val_loss: 1.1145\n"
     ]
    }
   ],
   "source": [
    "early_stop = EarlyStopping(monitor='val_loss', patience=15, restore_best_weights=True)\n",
    "weight_tracker = WeightTracker()\n",
    "\n",
    "history = model.fit(\n",
    "    X_train, Y_train,\n",
    "    validation_data=(X_val, Y_val),\n",
    "    epochs=15,\n",
    "    batch_size=8,\n",
    "    callbacks=[early_stop, weight_tracker]\n",
    ")"
   ]
  },
  {
   "cell_type": "markdown",
   "metadata": {},
   "source": [
    "### *11) Model Structure Summary:*"
   ]
  },
  {
   "cell_type": "code",
   "execution_count": null,
   "metadata": {
    "execution": {
     "iopub.execute_input": "2025-05-29T17:34:02.187329Z",
     "iopub.status.busy": "2025-05-29T17:34:02.186999Z",
     "iopub.status.idle": "2025-05-29T17:34:02.204256Z",
     "shell.execute_reply": "2025-05-29T17:34:02.203703Z",
     "shell.execute_reply.started": "2025-05-29T17:34:02.187310Z"
    },
    "trusted": true
   },
   "outputs": [
    {
     "data": {
      "text/html": [
       "<pre style=\"white-space:pre;overflow-x:auto;line-height:normal;font-family:Menlo,'DejaVu Sans Mono',consolas,'Courier New',monospace\"><span style=\"font-weight: bold\">Model: \"sequential_2\"</span>\n",
       "</pre>\n"
      ],
      "text/plain": [
       "\u001b[1mModel: \"sequential_2\"\u001b[0m\n"
      ]
     },
     "metadata": {},
     "output_type": "display_data"
    },
    {
     "data": {
      "text/html": [
       "<pre style=\"white-space:pre;overflow-x:auto;line-height:normal;font-family:Menlo,'DejaVu Sans Mono',consolas,'Courier New',monospace\">┏━━━━━━━━━━━━━━━━━━━━━━━━━━━━━━━━━━━━━━┳━━━━━━━━━━━━━━━━━━━━━━━━━━━━━┳━━━━━━━━━━━━━━━━━┓\n",
       "┃<span style=\"font-weight: bold\"> Layer (type)                         </span>┃<span style=\"font-weight: bold\"> Output Shape                </span>┃<span style=\"font-weight: bold\">         Param # </span>┃\n",
       "┡━━━━━━━━━━━━━━━━━━━━━━━━━━━━━━━━━━━━━━╇━━━━━━━━━━━━━━━━━━━━━━━━━━━━━╇━━━━━━━━━━━━━━━━━┩\n",
       "│ embedding_2 (<span style=\"color: #0087ff; text-decoration-color: #0087ff\">Embedding</span>)              │ (<span style=\"color: #00af00; text-decoration-color: #00af00\">8</span>, <span style=\"color: #00af00; text-decoration-color: #00af00\">500</span>, <span style=\"color: #00af00; text-decoration-color: #00af00\">64</span>)                │           <span style=\"color: #00af00; text-decoration-color: #00af00\">1,344</span> │\n",
       "├──────────────────────────────────────┼─────────────────────────────┼─────────────────┤\n",
       "│ conv1d_2 (<span style=\"color: #0087ff; text-decoration-color: #0087ff\">Conv1D</span>)                    │ (<span style=\"color: #00af00; text-decoration-color: #00af00\">8</span>, <span style=\"color: #00af00; text-decoration-color: #00af00\">500</span>, <span style=\"color: #00af00; text-decoration-color: #00af00\">128</span>)               │          <span style=\"color: #00af00; text-decoration-color: #00af00\">41,088</span> │\n",
       "├──────────────────────────────────────┼─────────────────────────────┼─────────────────┤\n",
       "│ batch_normalization_4                │ (<span style=\"color: #00af00; text-decoration-color: #00af00\">8</span>, <span style=\"color: #00af00; text-decoration-color: #00af00\">500</span>, <span style=\"color: #00af00; text-decoration-color: #00af00\">128</span>)               │             <span style=\"color: #00af00; text-decoration-color: #00af00\">512</span> │\n",
       "│ (<span style=\"color: #0087ff; text-decoration-color: #0087ff\">BatchNormalization</span>)                 │                             │                 │\n",
       "├──────────────────────────────────────┼─────────────────────────────┼─────────────────┤\n",
       "│ dropout_4 (<span style=\"color: #0087ff; text-decoration-color: #0087ff\">Dropout</span>)                  │ (<span style=\"color: #00af00; text-decoration-color: #00af00\">8</span>, <span style=\"color: #00af00; text-decoration-color: #00af00\">500</span>, <span style=\"color: #00af00; text-decoration-color: #00af00\">128</span>)               │               <span style=\"color: #00af00; text-decoration-color: #00af00\">0</span> │\n",
       "├──────────────────────────────────────┼─────────────────────────────┼─────────────────┤\n",
       "│ bidirectional_2 (<span style=\"color: #0087ff; text-decoration-color: #0087ff\">Bidirectional</span>)      │ (<span style=\"color: #00af00; text-decoration-color: #00af00\">8</span>, <span style=\"color: #00af00; text-decoration-color: #00af00\">128</span>)                    │          <span style=\"color: #00af00; text-decoration-color: #00af00\">74,496</span> │\n",
       "├──────────────────────────────────────┼─────────────────────────────┼─────────────────┤\n",
       "│ batch_normalization_5                │ (<span style=\"color: #00af00; text-decoration-color: #00af00\">8</span>, <span style=\"color: #00af00; text-decoration-color: #00af00\">128</span>)                    │             <span style=\"color: #00af00; text-decoration-color: #00af00\">512</span> │\n",
       "│ (<span style=\"color: #0087ff; text-decoration-color: #0087ff\">BatchNormalization</span>)                 │                             │                 │\n",
       "├──────────────────────────────────────┼─────────────────────────────┼─────────────────┤\n",
       "│ dropout_5 (<span style=\"color: #0087ff; text-decoration-color: #0087ff\">Dropout</span>)                  │ (<span style=\"color: #00af00; text-decoration-color: #00af00\">8</span>, <span style=\"color: #00af00; text-decoration-color: #00af00\">128</span>)                    │               <span style=\"color: #00af00; text-decoration-color: #00af00\">0</span> │\n",
       "├──────────────────────────────────────┼─────────────────────────────┼─────────────────┤\n",
       "│ dense_2 (<span style=\"color: #0087ff; text-decoration-color: #0087ff\">Dense</span>)                      │ (<span style=\"color: #00af00; text-decoration-color: #00af00\">8</span>, <span style=\"color: #00af00; text-decoration-color: #00af00\">3</span>)                      │             <span style=\"color: #00af00; text-decoration-color: #00af00\">387</span> │\n",
       "└──────────────────────────────────────┴─────────────────────────────┴─────────────────┘\n",
       "</pre>\n"
      ],
      "text/plain": [
       "┏━━━━━━━━━━━━━━━━━━━━━━━━━━━━━━━━━━━━━━┳━━━━━━━━━━━━━━━━━━━━━━━━━━━━━┳━━━━━━━━━━━━━━━━━┓\n",
       "┃\u001b[1m \u001b[0m\u001b[1mLayer (type)                        \u001b[0m\u001b[1m \u001b[0m┃\u001b[1m \u001b[0m\u001b[1mOutput Shape               \u001b[0m\u001b[1m \u001b[0m┃\u001b[1m \u001b[0m\u001b[1m        Param #\u001b[0m\u001b[1m \u001b[0m┃\n",
       "┡━━━━━━━━━━━━━━━━━━━━━━━━━━━━━━━━━━━━━━╇━━━━━━━━━━━━━━━━━━━━━━━━━━━━━╇━━━━━━━━━━━━━━━━━┩\n",
       "│ embedding_2 (\u001b[38;5;33mEmbedding\u001b[0m)              │ (\u001b[38;5;34m8\u001b[0m, \u001b[38;5;34m500\u001b[0m, \u001b[38;5;34m64\u001b[0m)                │           \u001b[38;5;34m1,344\u001b[0m │\n",
       "├──────────────────────────────────────┼─────────────────────────────┼─────────────────┤\n",
       "│ conv1d_2 (\u001b[38;5;33mConv1D\u001b[0m)                    │ (\u001b[38;5;34m8\u001b[0m, \u001b[38;5;34m500\u001b[0m, \u001b[38;5;34m128\u001b[0m)               │          \u001b[38;5;34m41,088\u001b[0m │\n",
       "├──────────────────────────────────────┼─────────────────────────────┼─────────────────┤\n",
       "│ batch_normalization_4                │ (\u001b[38;5;34m8\u001b[0m, \u001b[38;5;34m500\u001b[0m, \u001b[38;5;34m128\u001b[0m)               │             \u001b[38;5;34m512\u001b[0m │\n",
       "│ (\u001b[38;5;33mBatchNormalization\u001b[0m)                 │                             │                 │\n",
       "├──────────────────────────────────────┼─────────────────────────────┼─────────────────┤\n",
       "│ dropout_4 (\u001b[38;5;33mDropout\u001b[0m)                  │ (\u001b[38;5;34m8\u001b[0m, \u001b[38;5;34m500\u001b[0m, \u001b[38;5;34m128\u001b[0m)               │               \u001b[38;5;34m0\u001b[0m │\n",
       "├──────────────────────────────────────┼─────────────────────────────┼─────────────────┤\n",
       "│ bidirectional_2 (\u001b[38;5;33mBidirectional\u001b[0m)      │ (\u001b[38;5;34m8\u001b[0m, \u001b[38;5;34m128\u001b[0m)                    │          \u001b[38;5;34m74,496\u001b[0m │\n",
       "├──────────────────────────────────────┼─────────────────────────────┼─────────────────┤\n",
       "│ batch_normalization_5                │ (\u001b[38;5;34m8\u001b[0m, \u001b[38;5;34m128\u001b[0m)                    │             \u001b[38;5;34m512\u001b[0m │\n",
       "│ (\u001b[38;5;33mBatchNormalization\u001b[0m)                 │                             │                 │\n",
       "├──────────────────────────────────────┼─────────────────────────────┼─────────────────┤\n",
       "│ dropout_5 (\u001b[38;5;33mDropout\u001b[0m)                  │ (\u001b[38;5;34m8\u001b[0m, \u001b[38;5;34m128\u001b[0m)                    │               \u001b[38;5;34m0\u001b[0m │\n",
       "├──────────────────────────────────────┼─────────────────────────────┼─────────────────┤\n",
       "│ dense_2 (\u001b[38;5;33mDense\u001b[0m)                      │ (\u001b[38;5;34m8\u001b[0m, \u001b[38;5;34m3\u001b[0m)                      │             \u001b[38;5;34m387\u001b[0m │\n",
       "└──────────────────────────────────────┴─────────────────────────────┴─────────────────┘\n"
      ]
     },
     "metadata": {},
     "output_type": "display_data"
    },
    {
     "data": {
      "text/html": [
       "<pre style=\"white-space:pre;overflow-x:auto;line-height:normal;font-family:Menlo,'DejaVu Sans Mono',consolas,'Courier New',monospace\"><span style=\"font-weight: bold\"> Total params: </span><span style=\"color: #00af00; text-decoration-color: #00af00\">353,995</span> (1.35 MB)\n",
       "</pre>\n"
      ],
      "text/plain": [
       "\u001b[1m Total params: \u001b[0m\u001b[38;5;34m353,995\u001b[0m (1.35 MB)\n"
      ]
     },
     "metadata": {},
     "output_type": "display_data"
    },
    {
     "data": {
      "text/html": [
       "<pre style=\"white-space:pre;overflow-x:auto;line-height:normal;font-family:Menlo,'DejaVu Sans Mono',consolas,'Courier New',monospace\"><span style=\"font-weight: bold\"> Trainable params: </span><span style=\"color: #00af00; text-decoration-color: #00af00\">117,827</span> (460.26 KB)\n",
       "</pre>\n"
      ],
      "text/plain": [
       "\u001b[1m Trainable params: \u001b[0m\u001b[38;5;34m117,827\u001b[0m (460.26 KB)\n"
      ]
     },
     "metadata": {},
     "output_type": "display_data"
    },
    {
     "data": {
      "text/html": [
       "<pre style=\"white-space:pre;overflow-x:auto;line-height:normal;font-family:Menlo,'DejaVu Sans Mono',consolas,'Courier New',monospace\"><span style=\"font-weight: bold\"> Non-trainable params: </span><span style=\"color: #00af00; text-decoration-color: #00af00\">512</span> (2.00 KB)\n",
       "</pre>\n"
      ],
      "text/plain": [
       "\u001b[1m Non-trainable params: \u001b[0m\u001b[38;5;34m512\u001b[0m (2.00 KB)\n"
      ]
     },
     "metadata": {},
     "output_type": "display_data"
    },
    {
     "data": {
      "text/html": [
       "<pre style=\"white-space:pre;overflow-x:auto;line-height:normal;font-family:Menlo,'DejaVu Sans Mono',consolas,'Courier New',monospace\"><span style=\"font-weight: bold\"> Optimizer params: </span><span style=\"color: #00af00; text-decoration-color: #00af00\">235,656</span> (920.54 KB)\n",
       "</pre>\n"
      ],
      "text/plain": [
       "\u001b[1m Optimizer params: \u001b[0m\u001b[38;5;34m235,656\u001b[0m (920.54 KB)\n"
      ]
     },
     "metadata": {},
     "output_type": "display_data"
    }
   ],
   "source": [
    "model.summary()"
   ]
  },
  {
   "cell_type": "markdown",
   "metadata": {},
   "source": [
    "### *12) Generating GIFS:*"
   ]
  },
  {
   "cell_type": "code",
   "execution_count": 46,
   "metadata": {
    "execution": {
     "iopub.execute_input": "2025-05-29T17:34:02.205239Z",
     "iopub.status.busy": "2025-05-29T17:34:02.204966Z",
     "iopub.status.idle": "2025-05-29T17:34:16.287627Z",
     "shell.execute_reply": "2025-05-29T17:34:16.286829Z",
     "shell.execute_reply.started": "2025-05-29T17:34:02.205214Z"
    },
    "trusted": true
   },
   "outputs": [
    {
     "name": "stdout",
     "output_type": "stream",
     "text": [
      "✅GIF generation Complete!\n"
     ]
    }
   ],
   "source": [
    "import matplotlib.pyplot as plt\n",
    "import imageio.v2 as imageio \n",
    "import numpy as np\n",
    "import os\n",
    "\n",
    "# === Paths ===\n",
    "weights_dir = \"/kaggle/working/weights\"\n",
    "gif_output_dir = \"/kaggle/working/weight_gifs\"\n",
    "os.makedirs(gif_output_dir, exist_ok=True)\n",
    "\n",
    "# === Parsing .npy Files ===\n",
    "epoch_files = [f for f in os.listdir(weights_dir) if f.endswith(\".npy\")]\n",
    "layer_epoch_map = {}\n",
    "\n",
    "# === Grouping by (layer, epoch), collecting all weight indices for each ===\n",
    "for f in epoch_files:\n",
    "    parts = f.split('_')\n",
    "    epoch = int(parts[1])\n",
    "    layer = int(parts[3])\n",
    "    weight_idx = int(parts[5].split('.')[0])\n",
    "    key = (layer, epoch)\n",
    "    if key not in layer_epoch_map:\n",
    "        layer_epoch_map[key] = []\n",
    "    layer_epoch_map[key].append((weight_idx, os.path.join(weights_dir, f)))\n",
    "\n",
    "# === Generating GIFs per Layer ===\n",
    "layers = sorted(set(layer for layer, _ in layer_epoch_map.keys()))\n",
    "\n",
    "for layer in layers:\n",
    "    layer_epochs = sorted(e for l, e in layer_epoch_map if l == layer)\n",
    "    images = []\n",
    "\n",
    "    for epoch in layer_epochs:\n",
    "        weight_files = sorted(layer_epoch_map[(layer, epoch)], key=lambda x: x[0])  # sort by weight_idx\n",
    "        all_weights = []\n",
    "\n",
    "        for weight_idx, filepath in weight_files:\n",
    "            weights = np.load(filepath)\n",
    "\n",
    "            # === Ensuring 2D for visualization ===\n",
    "            if weights.ndim == 1:\n",
    "                weights = weights.reshape(1, -1)\n",
    "            elif weights.ndim > 2:\n",
    "                weights = weights[0]\n",
    "\n",
    "            all_weights.append(weights)\n",
    "\n",
    "        # === Stacking vertically (best for visualization) ===\n",
    "        combined_weights = np.vstack(all_weights)\n",
    "\n",
    "        # === Plotting ===\n",
    "        fig, ax = plt.subplots(figsize=(6, 6))\n",
    "        cax = ax.matshow(combined_weights, cmap='viridis')\n",
    "        weight_indices_str = ','.join(str(wi) for wi, _ in weight_files)\n",
    "        plt.title(f\"Layer {layer} | Epoch {epoch} | Weights: [{weight_indices_str}]\", fontsize=10)\n",
    "        fig.colorbar(cax)\n",
    "        plt.axis('off')\n",
    "\n",
    "        # === Saving frame image ===\n",
    "        img_path = f\"/tmp/layer{layer}_epoch{epoch}.png\"\n",
    "        plt.savefig(img_path)\n",
    "        plt.close(fig)\n",
    "        images.append(imageio.imread(img_path))\n",
    "\n",
    "    # === Saving GIF ===\n",
    "    gif_path = os.path.join(gif_output_dir, f\"layer{layer}_weights.gif\")\n",
    "    imageio.mimsave(gif_path, images, fps=2)\n",
    "\n",
    "print(\"✅GIF generation Complete!\")"
   ]
  },
  {
   "cell_type": "markdown",
   "metadata": {},
   "source": [
    "### *13) Displaying GIFS:*"
   ]
  },
  {
   "cell_type": "code",
   "execution_count": 47,
   "metadata": {
    "execution": {
     "iopub.execute_input": "2025-05-29T17:34:16.288735Z",
     "iopub.status.busy": "2025-05-29T17:34:16.288526Z",
     "iopub.status.idle": "2025-05-29T17:34:16.315809Z",
     "shell.execute_reply": "2025-05-29T17:34:16.315096Z",
     "shell.execute_reply.started": "2025-05-29T17:34:16.288719Z"
    },
    "trusted": true
   },
   "outputs": [
    {
     "data": {
      "application/vnd.jupyter.widget-view+json": {
       "model_id": "4077b18d7be84c3499928c8da42f6ca0",
       "version_major": 2,
       "version_minor": 0
      },
      "text/plain": [
       "GridBox(children=(Image(value=b'GIF89aX\\x02X\\x02\\x87\\x00\\x00\\xfe\\xfe\\xfe\"\\x88\\x8c)x\\x8d2\\xb5y/g\\x8d\\x1e\\x98\\x8…"
      ]
     },
     "metadata": {},
     "output_type": "display_data"
    }
   ],
   "source": [
    "from IPython.display import display\n",
    "import ipywidgets as widgets\n",
    "\n",
    "gif_paths = [\n",
    "    \"/kaggle/working/weight_gifs/layer1_weights.gif\",\n",
    "    \"/kaggle/working/weight_gifs/layer2_weights.gif\",\n",
    "    \"/kaggle/working/weight_gifs/layer3_weights.gif\",\n",
    "    \"/kaggle/working/weight_gifs/layer5_weights.gif\",\n",
    "    \"/kaggle/working/weight_gifs/layer6_weights.gif\",\n",
    "    \"/kaggle/working/weight_gifs/layer8_weights.gif\",\n",
    "]\n",
    "\n",
    "# === Loading the GIFs as widget.Image objects ===\n",
    "imgs = [widgets.Image(value=open(path, \"rb\").read(), format='gif', width=450) for path in gif_paths]\n",
    "\n",
    "# === Creating a 3-column, 2-row grid layout ===\n",
    "grid = widgets.GridBox(\n",
    "    children=imgs,\n",
    "    layout=widgets.Layout(\n",
    "        grid_template_columns=\"repeat(3, 1fr)\",  # 3 columns\n",
    "        grid_template_rows=\"repeat(2, auto)\",   # 2 rows\n",
    "        grid_gap=\"10px\",\n",
    "        justify_items=\"center\"\n",
    "    )\n",
    ")\n",
    "\n",
    "# === Displaying the grid ===\n",
    "display(grid)"
   ]
  },
  {
   "cell_type": "markdown",
   "metadata": {},
   "source": [
    "### *14) Accuracy and Loss Plotting:*"
   ]
  },
  {
   "cell_type": "code",
   "execution_count": 48,
   "metadata": {
    "execution": {
     "iopub.execute_input": "2025-05-29T17:34:16.316826Z",
     "iopub.status.busy": "2025-05-29T17:34:16.316538Z",
     "iopub.status.idle": "2025-05-29T17:34:16.687264Z",
     "shell.execute_reply": "2025-05-29T17:34:16.686490Z",
     "shell.execute_reply.started": "2025-05-29T17:34:16.316809Z"
    },
    "trusted": true
   },
   "outputs": [
    {
     "data": {
      "image/png": "[encoded data removed]",
      "text/plain": [
       "<Figure size 1200x500 with 2 Axes>"
      ]
     },
     "metadata": {},
     "output_type": "display_data"
    }
   ],
   "source": [
    "plt.figure(figsize=(12, 5))\n",
    "\n",
    "plt.subplot(1, 2, 1)\n",
    "plt.plot(history.history['loss'], label='Train Loss')\n",
    "plt.plot(history.history['val_loss'], label='Val Loss')\n",
    "plt.title(\"Loss Curve\")\n",
    "plt.xlabel(\"Epoch\")\n",
    "plt.ylabel(\"Loss\")\n",
    "plt.legend()\n",
    "\n",
    "plt.subplot(1, 2, 2)\n",
    "plt.plot(history.history['accuracy'], label='Train Accuracy')\n",
    "plt.plot(history.history['val_accuracy'], label='Val Accuracy')\n",
    "plt.title(\"Accuracy Curve\")\n",
    "plt.xlabel(\"Epoch\")\n",
    "plt.ylabel(\"Accuracy\")\n",
    "plt.legend()\n",
    "\n",
    "plt.tight_layout()\n",
    "plt.show()"
   ]
  },
  {
   "cell_type": "markdown",
   "metadata": {},
   "source": [
    "### *15) Confusion Matrix Plotting:*"
   ]
  },
  {
   "cell_type": "code",
   "execution_count": 49,
   "metadata": {
    "execution": {
     "iopub.execute_input": "2025-05-29T17:34:16.688214Z",
     "iopub.status.busy": "2025-05-29T17:34:16.688018Z",
     "iopub.status.idle": "2025-05-29T17:34:17.861718Z",
     "shell.execute_reply": "2025-05-29T17:34:17.860714Z",
     "shell.execute_reply.started": "2025-05-29T17:34:16.688183Z"
    },
    "trusted": true
   },
   "outputs": [
    {
     "name": "stdout",
     "output_type": "stream",
     "text": [
      "\u001b[1m20/20\u001b[0m \u001b[32m━━━━━━━━━━━━━━━━━━━━\u001b[0m\u001b[37m\u001b[0m \u001b[1m1s\u001b[0m 34ms/step\n"
     ]
    },
    {
     "data": {
      "image/png": "[encoded data removed]",
      "text/plain": [
       "<Figure size 600x500 with 2 Axes>"
      ]
     },
     "metadata": {},
     "output_type": "display_data"
    }
   ],
   "source": [
    "Y_test_pred_probs = model.predict(X_test)\n",
    "Y_test_pred = Y_test_pred_probs.argmax(axis=-1).flatten()\n",
    "Y_test_true = Y_test.argmax(axis=-1).flatten()\n",
    "\n",
    "cm = confusion_matrix(Y_test_true, Y_test_pred)\n",
    "plt.figure(figsize=(6, 5))\n",
    "sns.heatmap(cm, annot=True, fmt='d', cmap='Blues', xticklabels=label_encoder.classes_, yticklabels=label_encoder.classes_)\n",
    "plt.xlabel('Predicted')\n",
    "plt.ylabel('True')\n",
    "plt.title('Confusion Matrix')\n",
    "plt.show()"
   ]
  },
  {
   "cell_type": "markdown",
   "metadata": {},
   "source": [
    "### *16) Calculation of Evaluation Metrics: Precision, Recall, F1-Score and Accuracy:*"
   ]
  },
  {
   "cell_type": "code",
   "execution_count": 50,
   "metadata": {
    "execution": {
     "iopub.execute_input": "2025-05-29T17:34:17.862771Z",
     "iopub.status.busy": "2025-05-29T17:34:17.862427Z",
     "iopub.status.idle": "2025-05-29T17:34:18.310739Z",
     "shell.execute_reply": "2025-05-29T17:34:18.310066Z",
     "shell.execute_reply.started": "2025-05-29T17:34:17.862751Z"
    },
    "trusted": true
   },
   "outputs": [
    {
     "name": "stdout",
     "output_type": "stream",
     "text": [
      "\u001b[1m20/20\u001b[0m \u001b[32m━━━━━━━━━━━━━━━━━━━━\u001b[0m\u001b[37m\u001b[0m \u001b[1m0s\u001b[0m 18ms/step\n",
      "✅Classification Report:\n",
      "                     precision    recall  f1-score   support\n",
      "\n",
      "Enterobacteriaceae     0.5979    0.9237    0.7259       367\n",
      "       Escherichia     0.0000    0.0000    0.0000        91\n",
      "  Escherichia coli     0.4918    0.1734    0.2564       173\n",
      "\n",
      "          accuracy                         0.5848       631\n",
      "         macro avg     0.3632    0.3657    0.3274       631\n",
      "      weighted avg     0.4826    0.5848    0.4925       631\n",
      "\n",
      "✅Test Accuracy: 0.5848\n"
     ]
    }
   ],
   "source": [
    "Y_test_pred_probs = model.predict(X_test)\n",
    "Y_test_pred = Y_test_pred_probs.argmax(axis=1)\n",
    "Y_test_true = Y_test.argmax(axis=1)\n",
    "\n",
    "from sklearn.metrics import classification_report, accuracy_score\n",
    "\n",
    "report = classification_report(Y_test_true, Y_test_pred, target_names=label_encoder.classes_, digits=4)\n",
    "print(\"✅Classification Report:\\n\", report)\n",
    "\n",
    "accuracy = accuracy_score(Y_test_true, Y_test_pred)\n",
    "print(f\"✅Test Accuracy: {accuracy:.4f}\")"
   ]
  },
  {
   "cell_type": "markdown",
   "metadata": {},
   "source": [
    "### *17) Zipping Folders to Download from Kaggle:*"
   ]
  },
  {
   "cell_type": "code",
   "execution_count": 51,
   "metadata": {
    "execution": {
     "iopub.execute_input": "2025-05-29T17:34:18.311739Z",
     "iopub.status.busy": "2025-05-29T17:34:18.311486Z",
     "iopub.status.idle": "2025-05-29T17:34:19.017317Z",
     "shell.execute_reply": "2025-05-29T17:34:19.016354Z",
     "shell.execute_reply.started": "2025-05-29T17:34:18.311717Z"
    },
    "trusted": true
   },
   "outputs": [
    {
     "name": "stdout",
     "output_type": "stream",
     "text": [
      "✅Ready to be Downloaded!\n"
     ]
    }
   ],
   "source": [
    "!zip -r /kaggle/working/weights.zip /kaggle/working/weights > /dev/null\n",
    "!zip -r /kaggle/working/weight_gifs.zip /kaggle/working/weight_gifs > /dev/null\n",
    "print(f\"✅Ready to be Downloaded!\")"
   ]
  }
 ],
 "metadata": {
  "kaggle": {
   "accelerator": "gpu",
   "dataSources": [
    {
     "datasetId": 7516519,
     "sourceId": 11955253,
     "sourceType": "datasetVersion"
    }
   ],
   "dockerImageVersionId": 31041,
   "isGpuEnabled": true,
   "isInternetEnabled": true,
   "language": "python",
   "sourceType": "notebook"
  },
  "kernelspec": {
   "display_name": "base",
   "language": "python",
   "name": "python3"
  },
  "language_info": {
   "codemirror_mode": {
    "name": "ipython",
    "version": 3
   },
   "file_extension": ".py",
   "mimetype": "text/x-python",
   "name": "python",
   "nbconvert_exporter": "python",
   "pygments_lexer": "ipython3",
   "version": "3.11.5"
  }
 },
 "nbformat": 4,
 "nbformat_minor": 4
}
